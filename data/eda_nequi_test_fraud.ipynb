{
 "cells": [
  {
   "cell_type": "markdown",
   "metadata": {},
   "source": [
    "### **DESPLIEGUE INICIAL**"
   ]
  },
  {
   "cell_type": "markdown",
   "metadata": {},
   "source": [
    "Librerias necesarias para el desarrollo."
   ]
  },
  {
   "cell_type": "code",
   "execution_count": 1,
   "metadata": {},
   "outputs": [],
   "source": [
    "import pandas as pd\n",
    "import numpy as np\n",
    "import json\n",
    "import seaborn as sns\n",
    "import matplotlib.pyplot as plt\n",
    "import boto3\n",
    "import pyarrow as pa\n",
    "from datetime import datetime, date"
   ]
  },
  {
   "cell_type": "code",
   "execution_count": 6,
   "metadata": {},
   "outputs": [
    {
     "name": "stdout",
     "output_type": "stream",
     "text": [
      "(1852394, 23)\n",
      "\n"
     ]
    },
    {
     "data": {
      "text/plain": [
       "Index(['Unnamed: 0', 'trans_date_trans_time', 'cc_num', 'merchant', 'category',\n",
       "       'amt', 'first', 'last', 'gender', 'street', 'city', 'state', 'zip',\n",
       "       'lat', 'long', 'city_pop', 'job', 'dob', 'trans_num', 'unix_time',\n",
       "       'merch_lat', 'merch_long', 'is_fraud'],\n",
       "      dtype='object')"
      ]
     },
     "execution_count": 6,
     "metadata": {},
     "output_type": "execute_result"
    }
   ],
   "source": [
    "data_1_csv_df = pd.read_csv('../data/fraud_data_1.csv')\n",
    "data_2_json_df = pd.read_json('../data/fraud_data_2.json')\n",
    "\n",
    "df_list = [data_1_csv_df,data_2_json_df]\n",
    "datos_df = pd.concat(df_list)\n",
    "datos_df_copy = datos_df.copy()\n",
    "\n",
    "print(datos_df_copy.shape)\n",
    "print(\"\")\n",
    "datos_df_copy.columns"
   ]
  },
  {
   "cell_type": "code",
   "execution_count": 7,
   "metadata": {},
   "outputs": [
    {
     "name": "stdout",
     "output_type": "stream",
     "text": [
      "(1052394, 23)\n"
     ]
    }
   ],
   "source": [
    "n = 400000\n",
    "datos_df_copy.drop(datos_df_copy.tail(n).index,inplace = True)\n",
    "print(datos_df_copy.shape)"
   ]
  },
  {
   "cell_type": "code",
   "execution_count": 8,
   "metadata": {},
   "outputs": [],
   "source": [
    "del(datos_df_copy['Unnamed: 0'])\n",
    "del(datos_df_copy['unix_time'])"
   ]
  },
  {
   "cell_type": "code",
   "execution_count": 9,
   "metadata": {},
   "outputs": [],
   "source": [
    "datos_df_copy.columns = ['fecha_hora_transaccion', 'numero_tarjeta_credito_transaccion', 'nombre_local_comercial', \n",
    "                         'categoria_local_comercial', 'valor_transaccion', 'nombre_titular_cuenta', 'apellido_titular_cuenta', \n",
    "                         'genero_titular_cuenta', 'calle_titular_cuenta', 'ciudad_titular_cuenta', 'estado_titular_cuenta', \n",
    "                         'codigo_postal_titular_cuenta', 'latitud_titular_cuenta', 'longitud_titular_cuenta', \n",
    "                         'poblacion_ciudad_titular_cuenta', 'trabajo_titular_cuenta', 'fecha_nacimiento_titular_cuenta', \n",
    "                         'numero_trasaccion', 'latitud_local_comercial', 'longitud_local_comercial', 'fraude']\n",
    "datos_df_copy['nombre_completo_titular'] = datos_df_copy.nombre_titular_cuenta.str.cat(datos_df_copy.apellido_titular_cuenta, sep=' ')"
   ]
  },
  {
   "cell_type": "code",
   "execution_count": 10,
   "metadata": {},
   "outputs": [],
   "source": [
    "datos_df_copy['nombre_completo_titular'] = datos_df_copy.nombre_titular_cuenta.str.cat(datos_df_copy.apellido_titular_cuenta, sep=' ')"
   ]
  },
  {
   "cell_type": "markdown",
   "metadata": {},
   "source": [
    "Analisis rapido de los datos"
   ]
  },
  {
   "cell_type": "code",
   "execution_count": 11,
   "metadata": {},
   "outputs": [
    {
     "name": "stdout",
     "output_type": "stream",
     "text": [
      "valores nulos ********************************************\n",
      "fecha_hora_transaccion                0\n",
      "numero_tarjeta_credito_transaccion    0\n",
      "nombre_local_comercial                0\n",
      "categoria_local_comercial             0\n",
      "valor_transaccion                     0\n",
      "nombre_titular_cuenta                 0\n",
      "apellido_titular_cuenta               0\n",
      "genero_titular_cuenta                 0\n",
      "calle_titular_cuenta                  0\n",
      "ciudad_titular_cuenta                 0\n",
      "estado_titular_cuenta                 0\n",
      "codigo_postal_titular_cuenta          0\n",
      "latitud_titular_cuenta                0\n",
      "longitud_titular_cuenta               0\n",
      "poblacion_ciudad_titular_cuenta       0\n",
      "trabajo_titular_cuenta                0\n",
      "fecha_nacimiento_titular_cuenta       0\n",
      "numero_trasaccion                     0\n",
      "latitud_local_comercial               0\n",
      "longitud_local_comercial              0\n",
      "fraude                                0\n",
      "nombre_completo_titular               0\n",
      "dtype: int64\n",
      "Tipo de datos ********************************************\n",
      "fecha_hora_transaccion                 object\n",
      "numero_tarjeta_credito_transaccion      int64\n",
      "nombre_local_comercial                 object\n",
      "categoria_local_comercial              object\n",
      "valor_transaccion                     float64\n",
      "nombre_titular_cuenta                  object\n",
      "apellido_titular_cuenta                object\n",
      "genero_titular_cuenta                  object\n",
      "calle_titular_cuenta                   object\n",
      "ciudad_titular_cuenta                  object\n",
      "estado_titular_cuenta                  object\n",
      "codigo_postal_titular_cuenta            int64\n",
      "latitud_titular_cuenta                float64\n",
      "longitud_titular_cuenta               float64\n",
      "poblacion_ciudad_titular_cuenta         int64\n",
      "trabajo_titular_cuenta                 object\n",
      "fecha_nacimiento_titular_cuenta        object\n",
      "numero_trasaccion                      object\n",
      "latitud_local_comercial               float64\n",
      "longitud_local_comercial              float64\n",
      "fraude                                  int64\n",
      "nombre_completo_titular                object\n",
      "dtype: object\n",
      "Largo de datos *******************************************\n",
      "(1052394, 22)\n",
      "Estadisticas de los datos ********************************\n",
      "       numero_tarjeta_credito_transaccion  valor_transaccion  \\\n",
      "count                        1.052394e+06       1.052394e+06   \n",
      "mean                         4.175187e+17       7.044610e+01   \n",
      "std                          1.309196e+18       1.593924e+02   \n",
      "min                          6.041621e+10       1.000000e+00   \n",
      "25%                          1.800429e+14       9.650000e+00   \n",
      "50%                          3.521417e+15       4.756000e+01   \n",
      "75%                          4.642255e+15       8.321000e+01   \n",
      "max                          4.992346e+18       2.894890e+04   \n",
      "\n",
      "       codigo_postal_titular_cuenta  latitud_titular_cuenta  \\\n",
      "count                  1.052394e+06            1.052394e+06   \n",
      "mean                   4.882339e+04            3.854044e+01   \n",
      "std                    2.688212e+04            5.076383e+00   \n",
      "min                    1.257000e+03            2.002710e+01   \n",
      "25%                    2.623700e+04            3.462050e+01   \n",
      "50%                    4.817400e+04            3.935430e+01   \n",
      "75%                    7.204200e+04            4.194040e+01   \n",
      "max                    9.978300e+04            6.669330e+01   \n",
      "\n",
      "       longitud_titular_cuenta  poblacion_ciudad_titular_cuenta  \\\n",
      "count             1.052394e+06                     1.052394e+06   \n",
      "mean             -9.023333e+01                     8.879213e+04   \n",
      "std               1.375426e+01                     3.014144e+05   \n",
      "min              -1.656723e+02                     2.300000e+01   \n",
      "25%              -9.679800e+01                     7.430000e+02   \n",
      "50%              -8.747690e+01                     2.443000e+03   \n",
      "75%              -8.015800e+01                     2.032800e+04   \n",
      "max              -6.795030e+01                     2.906700e+06   \n",
      "\n",
      "       latitud_local_comercial  longitud_local_comercial        fraude  \n",
      "count             1.052394e+06              1.052394e+06  1.052394e+06  \n",
      "mean              3.854047e+01             -9.023342e+01  6.069970e-03  \n",
      "std               5.110726e+00              1.376636e+01  7.767323e-02  \n",
      "min               1.902779e+01             -1.666716e+02  0.000000e+00  \n",
      "25%               3.473545e+01             -9.690723e+01  0.000000e+00  \n",
      "50%               3.936847e+01             -8.745220e+01  0.000000e+00  \n",
      "75%               4.195882e+01             -8.024955e+01  0.000000e+00  \n",
      "max               6.751027e+01             -6.695090e+01  1.000000e+00  \n"
     ]
    }
   ],
   "source": [
    "print(\"valores nulos ********************************************\")\n",
    "print(datos_df_copy.isnull().sum())\n",
    "print(\"Tipo de datos ********************************************\")\n",
    "print(datos_df_copy.dtypes)\n",
    "print(\"Largo de datos *******************************************\")\n",
    "print(datos_df_copy.shape)\n",
    "print(\"Estadisticas de los datos ********************************\")\n",
    "print(datos_df_copy.describe())\n"
   ]
  },
  {
   "cell_type": "code",
   "execution_count": 12,
   "metadata": {},
   "outputs": [
    {
     "name": "stdout",
     "output_type": "stream",
     "text": [
      "Tipo de datos ********************************************\n",
      "fecha_hora_transaccion                 object\n",
      "numero_tarjeta_credito_transaccion      int64\n",
      "nombre_local_comercial                 object\n",
      "categoria_local_comercial              object\n",
      "valor_transaccion                     float64\n",
      "nombre_titular_cuenta                  object\n",
      "apellido_titular_cuenta                object\n",
      "genero_titular_cuenta                  object\n",
      "calle_titular_cuenta                   object\n",
      "ciudad_titular_cuenta                  object\n",
      "estado_titular_cuenta                  object\n",
      "codigo_postal_titular_cuenta            int64\n",
      "latitud_titular_cuenta                float64\n",
      "longitud_titular_cuenta               float64\n",
      "poblacion_ciudad_titular_cuenta         int64\n",
      "trabajo_titular_cuenta                 object\n",
      "fecha_nacimiento_titular_cuenta        object\n",
      "numero_trasaccion                      object\n",
      "latitud_local_comercial               float64\n",
      "longitud_local_comercial              float64\n",
      "fraude                                  int64\n",
      "nombre_completo_titular                object\n",
      "dtype: object\n"
     ]
    }
   ],
   "source": [
    "print(\"Tipo de datos ********************************************\")\n",
    "print(datos_df_copy.dtypes)"
   ]
  },
  {
   "cell_type": "code",
   "execution_count": 13,
   "metadata": {},
   "outputs": [
    {
     "name": "stdout",
     "output_type": "stream",
     "text": [
      "Largo de datos *******************************************\n",
      "(1052394, 22)\n"
     ]
    }
   ],
   "source": [
    "print(\"Largo de datos *******************************************\")\n",
    "print(datos_df_copy.shape)"
   ]
  },
  {
   "cell_type": "code",
   "execution_count": 14,
   "metadata": {},
   "outputs": [
    {
     "name": "stdout",
     "output_type": "stream",
     "text": [
      "Estadisticas de los datos ********************************************\n",
      "       numero_tarjeta_credito_transaccion  valor_transaccion  \\\n",
      "count                        1.052394e+06       1.052394e+06   \n",
      "mean                         4.175187e+17       7.044610e+01   \n",
      "std                          1.309196e+18       1.593924e+02   \n",
      "min                          6.041621e+10       1.000000e+00   \n",
      "25%                          1.800429e+14       9.650000e+00   \n",
      "50%                          3.521417e+15       4.756000e+01   \n",
      "75%                          4.642255e+15       8.321000e+01   \n",
      "max                          4.992346e+18       2.894890e+04   \n",
      "\n",
      "       codigo_postal_titular_cuenta  latitud_titular_cuenta  \\\n",
      "count                  1.052394e+06            1.052394e+06   \n",
      "mean                   4.882339e+04            3.854044e+01   \n",
      "std                    2.688212e+04            5.076383e+00   \n",
      "min                    1.257000e+03            2.002710e+01   \n",
      "25%                    2.623700e+04            3.462050e+01   \n",
      "50%                    4.817400e+04            3.935430e+01   \n",
      "75%                    7.204200e+04            4.194040e+01   \n",
      "max                    9.978300e+04            6.669330e+01   \n",
      "\n",
      "       longitud_titular_cuenta  poblacion_ciudad_titular_cuenta  \\\n",
      "count             1.052394e+06                     1.052394e+06   \n",
      "mean             -9.023333e+01                     8.879213e+04   \n",
      "std               1.375426e+01                     3.014144e+05   \n",
      "min              -1.656723e+02                     2.300000e+01   \n",
      "25%              -9.679800e+01                     7.430000e+02   \n",
      "50%              -8.747690e+01                     2.443000e+03   \n",
      "75%              -8.015800e+01                     2.032800e+04   \n",
      "max              -6.795030e+01                     2.906700e+06   \n",
      "\n",
      "       latitud_local_comercial  longitud_local_comercial        fraude  \n",
      "count             1.052394e+06              1.052394e+06  1.052394e+06  \n",
      "mean              3.854047e+01             -9.023342e+01  6.069970e-03  \n",
      "std               5.110726e+00              1.376636e+01  7.767323e-02  \n",
      "min               1.902779e+01             -1.666716e+02  0.000000e+00  \n",
      "25%               3.473545e+01             -9.690723e+01  0.000000e+00  \n",
      "50%               3.936847e+01             -8.745220e+01  0.000000e+00  \n",
      "75%               4.195882e+01             -8.024955e+01  0.000000e+00  \n",
      "max               6.751027e+01             -6.695090e+01  1.000000e+00  \n"
     ]
    }
   ],
   "source": [
    "print(\"Estadisticas de los datos ********************************************\")\n",
    "print(datos_df_copy.describe())"
   ]
  },
  {
   "cell_type": "code",
   "execution_count": 15,
   "metadata": {},
   "outputs": [
    {
     "name": "stdout",
     "output_type": "stream",
     "text": [
      "\n",
      "Promedio de transacciones por titulares de cuenta 1087.18\n",
      "Promedio de transacciones por local comercial 1518.61\n",
      "\n",
      "Total de transacciones 1052394\n",
      "Total de fraudes en la muestra 6388\n",
      "Total de transacciones sin fraude 1046006\n",
      "\n",
      "N de transaciones NaN: 0\n",
      "N de transaciones vacias: 0\n"
     ]
    }
   ],
   "source": [
    "print(\"\")\n",
    "print(f\"Promedio de transacciones por titulares de cuenta {datos_df_copy.shape[0]/datos_df_copy.nombre_completo_titular.nunique():.2f}\")\n",
    "print(f\"Promedio de transacciones por local comercial {datos_df_copy.shape[0]/datos_df_copy.nombre_local_comercial.nunique():.2f}\")\n",
    "print(\"\")\n",
    "print(f\"Total de transacciones {datos_df_copy.shape[0]}\")\n",
    "print(f\"Total de fraudes en la muestra {(datos_df_copy['fraude'] == 1).sum()}\")\n",
    "print(f\"Total de transacciones sin fraude {(datos_df_copy['fraude'] == 0).sum()}\")\n",
    "print(\"\")\n",
    "print(\"N de transaciones NaN: \" + str(len(datos_df_copy[datos_df_copy['valor_transaccion'] == 'NaN'])))\n",
    "print(\"N de transaciones vacias: \" + str(len(datos_df_copy[datos_df_copy['valor_transaccion'] == ''])))"
   ]
  },
  {
   "cell_type": "code",
   "execution_count": 16,
   "metadata": {},
   "outputs": [
    {
     "name": "stdout",
     "output_type": "stream",
     "text": [
      "Cantidad de fraudes: 1\n",
      "0    1046006\n",
      "1       6388\n",
      "Name: fraude, dtype: int64\n",
      "% de fraudes: 1\n",
      "0    99.393003\n",
      "1     0.606997\n",
      "Name: fraude, dtype: float64\n"
     ]
    }
   ],
   "source": [
    "print('Cantidad de fraudes: 1')\n",
    "print(datos_df_copy.fraude.value_counts())\n",
    "print('% de fraudes: 1')\n",
    "print((datos_df_copy.fraude.value_counts()/len(datos_df_copy['fraude']))*100 )"
   ]
  },
  {
   "cell_type": "code",
   "execution_count": 17,
   "metadata": {},
   "outputs": [
    {
     "name": "stderr",
     "output_type": "stream",
     "text": [
      "No artists with labels found to put in legend.  Note that artists whose label start with an underscore are ignored when legend() is called with no argument.\n"
     ]
    },
    {
     "name": "stdout",
     "output_type": "stream",
     "text": [
      "       Fraudes  Transacciones  Tasa_de_fraudes\n",
      "horas                                         \n",
      "0          552          34550         0.015977\n",
      "1          559          34727         0.016097\n",
      "2          530          34628         0.015306\n",
      "3          518          34529         0.015002\n",
      "4           41          33748         0.001215\n",
      "5           51          34273         0.001488\n",
      "6           38          34252         0.001109\n",
      "7           52          34177         0.001521\n",
      "8           33          34379         0.000960\n",
      "9           43          34076         0.001262\n",
      "10          35          34046         0.001028\n",
      "11          41          34080         0.001203\n",
      "12          55          52997         0.001038\n",
      "13          64          53080         0.001206\n",
      "14          68          52585         0.001293\n",
      "15          66          53126         0.001242\n",
      "16          65          53591         0.001213\n",
      "17          64          53133         0.001205\n",
      "18          72          53632         0.001342\n",
      "19          73          53253         0.001371\n",
      "20          47          53091         0.000885\n",
      "21          70          53160         0.001317\n",
      "22        1629          54604         0.029833\n",
      "23        1622          54677         0.029665\n"
     ]
    },
    {
     "data": {
      "image/png": "[encoded data removed]",
      "text/plain": [
       "<Figure size 720x360 with 1 Axes>"
      ]
     },
     "metadata": {
      "needs_background": "light"
     },
     "output_type": "display_data"
    }
   ],
   "source": [
    "datos_df_copy['fecha_hora_transaccion'] = pd.to_datetime(datos_df_copy.fecha_hora_transaccion)\n",
    "datos_df_copy['horas'] = datos_df_copy['fecha_hora_transaccion'].dt.hour\n",
    "\n",
    "# datos_df_copy['horas']\n",
    "horas_fraude = pd.concat([datos_df_copy.groupby(\"horas\")[\"fraude\"].sum(),datos_df_copy.groupby(\"horas\")[\"fraude\"].count()],axis=1)\n",
    "horas_fraude.columns = [\"Fraudes\", \"Transacciones\"]\n",
    "horas_fraude[\"Tasa_de_fraudes\"] = horas_fraude.Fraudes/horas_fraude.Transacciones\n",
    "print(horas_fraude.sort_values(by=\"horas\",ascending=True))\n",
    "\n",
    "plt.figure(figsize=(10,5))\n",
    "w=0.4\n",
    "x = horas_fraude.index\n",
    "y = horas_fraude.Fraudes\n",
    "plt.bar(x,y,w)\n",
    "\n",
    "plt.xlabel(\"Horas\")\n",
    "plt.ylabel(\"Cantidad de fraudes\")\n",
    "plt.title(\"Fraude por hora\")\n",
    "plt.xticks(x,x)\n",
    "plt.legend()\n",
    "plt.show()\n",
    "\n",
    "\n"
   ]
  },
  {
   "cell_type": "code",
   "execution_count": 18,
   "metadata": {},
   "outputs": [
    {
     "name": "stderr",
     "output_type": "stream",
     "text": [
      "No artists with labels found to put in legend.  Note that artists whose label start with an underscore are ignored when legend() is called with no argument.\n"
     ]
    },
    {
     "name": "stdout",
     "output_type": "stream",
     "text": [
      "       fraude  total_fraudes  tasa_total_fraudes_por_hora\n",
      "horas                                                    \n",
      "0         552           6388                     8.641202\n",
      "1         559           6388                     8.750783\n",
      "2         530           6388                     8.296807\n",
      "3         518           6388                     8.108954\n",
      "4          41           6388                     0.641828\n",
      "5          51           6388                     0.798372\n",
      "6          38           6388                     0.594865\n",
      "7          52           6388                     0.814026\n",
      "8          33           6388                     0.516594\n",
      "9          43           6388                     0.673137\n",
      "10         35           6388                     0.547902\n",
      "11         41           6388                     0.641828\n",
      "12         55           6388                     0.860989\n",
      "13         64           6388                     1.001879\n",
      "14         68           6388                     1.064496\n",
      "15         66           6388                     1.033187\n",
      "16         65           6388                     1.017533\n",
      "17         64           6388                     1.001879\n",
      "18         72           6388                     1.127113\n",
      "19         73           6388                     1.142768\n",
      "20         47           6388                     0.735755\n",
      "21         70           6388                     1.095805\n",
      "22       1629           6388                    25.500939\n",
      "23       1622           6388                    25.391359\n"
     ]
    },
    {
     "data": {
      "image/png": "[encoded data removed]",
      "text/plain": [
       "<Figure size 720x360 with 1 Axes>"
      ]
     },
     "metadata": {
      "needs_background": "light"
     },
     "output_type": "display_data"
    }
   ],
   "source": [
    "datos_df_copy['fecha_hora_transaccion'] = pd.to_datetime(datos_df_copy.fecha_hora_transaccion)\n",
    "datos_df_copy['horas'] = datos_df_copy['fecha_hora_transaccion'].dt.hour\n",
    "\n",
    "horas_fraude = datos_df_copy[[\"horas\", \"fraude\"]]\n",
    "horas_fraude = horas_fraude.groupby(\"horas\").sum()\n",
    "horas_fraude['total_fraudes'] = horas_fraude.fraude.sum()\n",
    "horas_fraude['tasa_total_fraudes_por_hora'] = (horas_fraude.fraude/horas_fraude.total_fraudes)*100.00\n",
    "\n",
    "print(horas_fraude.sort_values(by=\"horas\",ascending=True))\n",
    "\n",
    "plt.figure(figsize=(10,5))\n",
    "w=0.4\n",
    "x = horas_fraude.index\n",
    "y = horas_fraude.tasa_total_fraudes_por_hora\n",
    "plt.bar(x,y,w, color='red')\n",
    "\n",
    "plt.xlabel(\"Horas\")\n",
    "plt.ylabel(\"Porcentaje\")\n",
    "plt.title(\"Porcentaje de fraudes por hora\")\n",
    "plt.xticks(x,x)\n",
    "plt.legend()\n",
    "plt.show()\n",
    "\n"
   ]
  },
  {
   "cell_type": "code",
   "execution_count": 19,
   "metadata": {},
   "outputs": [
    {
     "name": "stdout",
     "output_type": "stream",
     "text": [
      "       fraude  total_fraudes  tasa_total_fraudes_por_hora\n",
      "horas                                                    \n",
      "0         552           6388                     8.641202\n",
      "1         559           6388                     8.750783\n",
      "2         530           6388                     8.296807\n",
      "3         518           6388                     8.108954\n",
      "4          41           6388                     0.641828\n",
      "5          51           6388                     0.798372\n",
      "6          38           6388                     0.594865\n",
      "7          52           6388                     0.814026\n",
      "8          33           6388                     0.516594\n",
      "9          43           6388                     0.673137\n",
      "10         35           6388                     0.547902\n",
      "11         41           6388                     0.641828\n",
      "12         55           6388                     0.860989\n",
      "13         64           6388                     1.001879\n",
      "14         68           6388                     1.064496\n",
      "15         66           6388                     1.033187\n",
      "16         65           6388                     1.017533\n",
      "17         64           6388                     1.001879\n",
      "18         72           6388                     1.127113\n",
      "19         73           6388                     1.142768\n",
      "20         47           6388                     0.735755\n",
      "21         70           6388                     1.095805\n",
      "22       1629           6388                    25.500939\n",
      "23       1622           6388                    25.391359\n"
     ]
    },
    {
     "data": {
      "image/png": "[encoded data removed]",
      "text/plain": [
       "<Figure size 720x360 with 1 Axes>"
      ]
     },
     "metadata": {},
     "output_type": "display_data"
    }
   ],
   "source": [
    "datos_df_copy['fecha_hora_transaccion'] = pd.to_datetime(datos_df_copy.fecha_hora_transaccion)\n",
    "datos_df_copy['horas'] = datos_df_copy['fecha_hora_transaccion'].dt.hour\n",
    "\n",
    "horas_fraude = datos_df_copy[[\"horas\", \"fraude\"]]\n",
    "horas_fraude = horas_fraude.groupby(\"horas\").sum()\n",
    "horas_fraude['total_fraudes'] = horas_fraude.fraude.sum()\n",
    "horas_fraude['tasa_total_fraudes_por_hora'] = (horas_fraude.fraude/horas_fraude.total_fraudes)*100.00\n",
    "\n",
    "print(horas_fraude.sort_values(by=\"horas\",ascending=True))\n",
    "\n",
    "h = horas_fraude.index\n",
    "d = horas_fraude.tasa_total_fraudes_por_hora\n",
    "colores = (\"#B87E72\", \"#7B8013\", \"#8D8E74\", \"#44BE33\", \"#50BEB4\", \"#812F3F\", \"#3A47D1\", \"#F112C5\", \n",
    "           \"#F72B07\", \"#F3F707\", \"#2BF707\", \"#07F7F3\", \"#0719F7\", \"#EC07F7\", \"#EBC8D4\", \"#CDC8EB\",\n",
    "           \"#C8EBE4\", \"#CAEBC8\", \"#E8EBC8\", \"#EBCDC8\", \"#954538\", \"#8F9538\", \"#384C95\", \"#95388C\")\n",
    "\n",
    "desfase = (1,1,1,1,1,1,1,1,1,1,1,1,1,1,1,1,1,1,1,1,1,1,1,1)\n",
    "\n",
    "plt.figure(figsize=(10,5))\n",
    "plt.pie(d, labels=h, autopct=\"%0.1f %%\", colors=colores)\n",
    "\n",
    "plt.title(\"Porcentaje de fraudes por hora\")\n",
    "plt.axis('equal')\n",
    "plt.legend()\n",
    "plt.show()"
   ]
  },
  {
   "cell_type": "code",
   "execution_count": 20,
   "metadata": {},
   "outputs": [
    {
     "name": "stdout",
     "output_type": "stream",
     "text": [
      "                 fraude  total_fraudes  tasa_total_fraudes_por_edades\n",
      "grupo_edades                                                         \n",
      "menores de 18        27           6388                       0.422668\n",
      "jovenes 18 - 26     415           6388                       6.496556\n",
      "adultos 27 - 59    3870           6388                      60.582342\n",
      "mayores de 60      2076           6388                      32.498435\n"
     ]
    },
    {
     "data": {
      "image/png": "[encoded data removed]",
      "text/plain": [
       "<Figure size 720x360 with 1 Axes>"
      ]
     },
     "metadata": {},
     "output_type": "display_data"
    }
   ],
   "source": [
    "datos_df_copy['fecha_nacimiento_titular_cuenta'] = pd.to_datetime(datos_df_copy.fecha_nacimiento_titular_cuenta)\n",
    "datos_df_copy['edad_titular'] = (date.today().year) - (datos_df_copy['fecha_nacimiento_titular_cuenta'].dt.year)\n",
    "\n",
    "\n",
    "bins = [0, 18, 26, 59, 100]\n",
    "names = [\"menores de 18\", \"jovenes 18 - 26\", \"adultos 27 - 59\", \"mayores de 60\"]\n",
    "datos_df_copy['grupo_edades'] = pd.cut(datos_df_copy[\"edad_titular\"], bins, labels = names)\n",
    "\n",
    "edades_fraude = datos_df_copy[[\"grupo_edades\", \"fraude\"]]\n",
    "edades_fraude = edades_fraude.groupby(\"grupo_edades\").sum()\n",
    "edades_fraude['total_fraudes'] = edades_fraude.fraude.sum()\n",
    "edades_fraude['tasa_total_fraudes_por_edades'] = (edades_fraude.fraude/edades_fraude.total_fraudes)*100.00\n",
    "\n",
    "print(edades_fraude)\n",
    "\n",
    "h = edades_fraude.index\n",
    "d = edades_fraude.tasa_total_fraudes_por_edades\n",
    "\n",
    "plt.figure(figsize=(10,5))\n",
    "plt.pie(d, labels=h, autopct=\"%0.1f %%\")\n",
    "\n",
    "plt.title(\"Porcentaje de edades que realizan fraude\")\n",
    "plt.axis('equal')\n",
    "plt.legend()\n",
    "plt.show()\n",
    "\n"
   ]
  },
  {
   "cell_type": "code",
   "execution_count": 21,
   "metadata": {},
   "outputs": [],
   "source": [
    "datos_titulares = datos_df_copy[['numero_trasaccion', 'nombre_titular_cuenta', 'apellido_titular_cuenta', 'genero_titular_cuenta', 'calle_titular_cuenta', 'ciudad_titular_cuenta', 'estado_titular_cuenta', 'codigo_postal_titular_cuenta', 'latitud_titular_cuenta', 'longitud_titular_cuenta', 'poblacion_ciudad_titular_cuenta', 'trabajo_titular_cuenta', 'fecha_nacimiento_titular_cuenta' ]]\n",
    "datos_transaccion = datos_df_copy[['numero_trasaccion', 'fecha_hora_transaccion', 'numero_tarjeta_credito_transaccion', 'valor_transaccion']]\n",
    "datos_comercio = datos_df_copy[['numero_trasaccion', 'nombre_local_comercial', 'categoria_local_comercial', 'latitud_local_comercial', 'longitud_local_comercial']]\n",
    "datos_fraude = datos_df_copy[['numero_trasaccion', 'fraude']]"
   ]
  },
  {
   "cell_type": "code",
   "execution_count": 22,
   "metadata": {},
   "outputs": [],
   "source": [
    "datos_titulares.to_csv(\"../data/split_data/datos_titulares.csv\",sep=\";\", index=False, header=True)\n",
    "datos_transaccion.to_csv(\"../data/split_data/datos_transaccion.csv\",sep=\";\", index=False, header=True)\n",
    "datos_comercio.to_parquet(\"../data/split_data/datos_comercio.parquet.gzip\",compression='gzip',  engine='pyarrow', index=None)\n",
    "datos_fraude.to_parquet(\"../data/split_data/datos_fraude.parquet.gzip\",compression='gzip',  engine='pyarrow', index = None)"
   ]
  }
 ],
 "metadata": {
  "kernelspec": {
   "display_name": "Python 3 (ipykernel)",
   "language": "python",
   "name": "python3"
  },
  "language_info": {
   "codemirror_mode": {
    "name": "ipython",
    "version": 3
   },
   "file_extension": ".py",
   "mimetype": "text/x-python",
   "name": "python",
   "nbconvert_exporter": "python",
   "pygments_lexer": "ipython3",
   "version": "3.9.12"
  },
  "vscode": {
   "interpreter": {
    "hash": "2c461281555fba1d1d8ca2826b9812eb3e1ec3c936ad54d6d25c4a8a1411641b"
   }
  }
 },
 "nbformat": 4,
 "nbformat_minor": 2
}
